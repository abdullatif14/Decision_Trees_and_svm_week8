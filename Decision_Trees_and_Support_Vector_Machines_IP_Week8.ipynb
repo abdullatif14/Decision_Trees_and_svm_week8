{
  "nbformat": 4,
  "nbformat_minor": 0,
  "metadata": {
    "colab": {
      "name": "Decision_Trees_and_Support_Vector_Machines_IP_Week8",
      "provenance": [],
      "authorship_tag": "ABX9TyPO+JxaY2neua/dognpimLR",
      "include_colab_link": true
    },
    "kernelspec": {
      "name": "python3",
      "display_name": "Python 3"
    },
    "language_info": {
      "name": "python"
    }
  },
  "cells": [
    {
      "cell_type": "markdown",
      "metadata": {
        "id": "view-in-github",
        "colab_type": "text"
      },
      "source": [
        "<a href=\"https://colab.research.google.com/github/abdullatif14/Decision_Trees_and_svm_week8/blob/main/Decision_Trees_and_Support_Vector_Machines_IP_Week8.ipynb\" target=\"_parent\"><img src=\"https://colab.research.google.com/assets/colab-badge.svg\" alt=\"Open In Colab\"/></a>"
      ]
    },
    {
      "cell_type": "markdown",
      "metadata": {
        "id": "XnBmV49zzn79"
      },
      "source": [
        "# Defining the Questions"
      ]
    },
    {
      "cell_type": "markdown",
      "metadata": {
        "id": "wb-GUcna0Qi4"
      },
      "source": [
        "##a)Specifying the questions\n",
        "Build a model that determines whether or not the patient's symptoms indicate that the patient has hypothyroid."
      ]
    },
    {
      "cell_type": "markdown",
      "metadata": {
        "id": "e3vZfe0_0Ztj"
      },
      "source": [
        "##b)Defining the metric for success\n",
        "•Data cleaning(outliers and missing values)\n",
        "\n",
        "•Univariate analysis\n",
        "\n",
        "•Bivariate analysis\n",
        "\n",
        "•Implementing the Solution\n",
        "\n",
        "•Recommendations"
      ]
    },
    {
      "cell_type": "markdown",
      "metadata": {
        "id": "Sr2PiNdu0hbo"
      },
      "source": [
        "##c)Understanding the context\n",
        "\n",
        "The data provided is about a destructive disease known as hypothyroid. This is a Hypothyroidism's deficiency of thyroid hormones which can disrupt things like heart rate, body temperature and all aspects of metabolism.\n",
        "\n",
        "Major symptoms include fatigue, cold sensitivity, constipation, dry skin and unexplained weight gain.\n",
        "Treatment consists of thyroid hormone replacement.\n",
        "\n",
        "So we are going to build a model to assist the Nairobi Hospital overcome some of the challenges treating patients with Hypothroid."
      ]
    },
    {
      "cell_type": "markdown",
      "metadata": {
        "id": "ZazVAz_W07Jg"
      },
      "source": [
        "##d)Recording the experimental design\n",
        "1.Exploratory Data Analysis\n",
        "\n",
        "2.Checking Multicollinearity\n",
        "\n",
        "3.Feature Engineering\n",
        "\n",
        "4.Optimizing Decision Trees\n",
        "\n",
        "5.Support Vector Machines\n",
        "\n",
        "6.Evaluating the model\n",
        "\n",
        "7.Prediction\n",
        "\n"
      ]
    },
    {
      "cell_type": "markdown",
      "metadata": {
        "id": "BpsUXVXp1DcJ"
      },
      "source": [
        "##e)Data relevance"
      ]
    },
    {
      "cell_type": "markdown",
      "metadata": {
        "id": "-0SY7jxqLKxv"
      },
      "source": [
        "#Reading and Data Cleaning"
      ]
    },
    {
      "cell_type": "markdown",
      "metadata": {
        "id": "MaaymDVBNHyb"
      },
      "source": [
        "**Importing Libraries**"
      ]
    },
    {
      "cell_type": "code",
      "metadata": {
        "id": "qDKcWwv_Jojp"
      },
      "source": [
        "import pandas as pd\n",
        "import numpy as np\n",
        "import matplotlib.pyplot as plt\n",
        "import seaborn as sns"
      ],
      "execution_count": 1,
      "outputs": []
    },
    {
      "cell_type": "code",
      "metadata": {
        "colab": {
          "base_uri": "https://localhost:8080/",
          "height": 224
        },
        "id": "wln67PMQNpJa",
        "outputId": "cc40ef9e-0ffe-400b-c5c8-cc2aad0c042c"
      },
      "source": [
        "#laoding the dataset\n",
        "hyp = pd.read_csv('hypothyroid.csv')\n",
        "hyp.head()"
      ],
      "execution_count": 2,
      "outputs": [
        {
          "output_type": "execute_result",
          "data": {
            "text/html": [
              "<div>\n",
              "<style scoped>\n",
              "    .dataframe tbody tr th:only-of-type {\n",
              "        vertical-align: middle;\n",
              "    }\n",
              "\n",
              "    .dataframe tbody tr th {\n",
              "        vertical-align: top;\n",
              "    }\n",
              "\n",
              "    .dataframe thead th {\n",
              "        text-align: right;\n",
              "    }\n",
              "</style>\n",
              "<table border=\"1\" class=\"dataframe\">\n",
              "  <thead>\n",
              "    <tr style=\"text-align: right;\">\n",
              "      <th></th>\n",
              "      <th>status</th>\n",
              "      <th>age</th>\n",
              "      <th>sex</th>\n",
              "      <th>on_thyroxine</th>\n",
              "      <th>query_on_thyroxine</th>\n",
              "      <th>on_antithyroid_medication</th>\n",
              "      <th>thyroid_surgery</th>\n",
              "      <th>query_hypothyroid</th>\n",
              "      <th>query_hyperthyroid</th>\n",
              "      <th>pregnant</th>\n",
              "      <th>sick</th>\n",
              "      <th>tumor</th>\n",
              "      <th>lithium</th>\n",
              "      <th>goitre</th>\n",
              "      <th>TSH_measured</th>\n",
              "      <th>TSH</th>\n",
              "      <th>T3_measured</th>\n",
              "      <th>T3</th>\n",
              "      <th>TT4_measured</th>\n",
              "      <th>TT4</th>\n",
              "      <th>T4U_measured</th>\n",
              "      <th>T4U</th>\n",
              "      <th>FTI_measured</th>\n",
              "      <th>FTI</th>\n",
              "      <th>TBG_measured</th>\n",
              "      <th>TBG</th>\n",
              "    </tr>\n",
              "  </thead>\n",
              "  <tbody>\n",
              "    <tr>\n",
              "      <th>0</th>\n",
              "      <td>hypothyroid</td>\n",
              "      <td>72</td>\n",
              "      <td>M</td>\n",
              "      <td>f</td>\n",
              "      <td>f</td>\n",
              "      <td>f</td>\n",
              "      <td>f</td>\n",
              "      <td>f</td>\n",
              "      <td>f</td>\n",
              "      <td>f</td>\n",
              "      <td>f</td>\n",
              "      <td>f</td>\n",
              "      <td>f</td>\n",
              "      <td>f</td>\n",
              "      <td>y</td>\n",
              "      <td>30</td>\n",
              "      <td>y</td>\n",
              "      <td>0.60</td>\n",
              "      <td>y</td>\n",
              "      <td>15</td>\n",
              "      <td>y</td>\n",
              "      <td>1.48</td>\n",
              "      <td>y</td>\n",
              "      <td>10</td>\n",
              "      <td>n</td>\n",
              "      <td>?</td>\n",
              "    </tr>\n",
              "    <tr>\n",
              "      <th>1</th>\n",
              "      <td>hypothyroid</td>\n",
              "      <td>15</td>\n",
              "      <td>F</td>\n",
              "      <td>t</td>\n",
              "      <td>f</td>\n",
              "      <td>f</td>\n",
              "      <td>f</td>\n",
              "      <td>f</td>\n",
              "      <td>f</td>\n",
              "      <td>f</td>\n",
              "      <td>f</td>\n",
              "      <td>f</td>\n",
              "      <td>f</td>\n",
              "      <td>f</td>\n",
              "      <td>y</td>\n",
              "      <td>145</td>\n",
              "      <td>y</td>\n",
              "      <td>1.70</td>\n",
              "      <td>y</td>\n",
              "      <td>19</td>\n",
              "      <td>y</td>\n",
              "      <td>1.13</td>\n",
              "      <td>y</td>\n",
              "      <td>17</td>\n",
              "      <td>n</td>\n",
              "      <td>?</td>\n",
              "    </tr>\n",
              "    <tr>\n",
              "      <th>2</th>\n",
              "      <td>hypothyroid</td>\n",
              "      <td>24</td>\n",
              "      <td>M</td>\n",
              "      <td>f</td>\n",
              "      <td>f</td>\n",
              "      <td>f</td>\n",
              "      <td>f</td>\n",
              "      <td>f</td>\n",
              "      <td>f</td>\n",
              "      <td>f</td>\n",
              "      <td>f</td>\n",
              "      <td>f</td>\n",
              "      <td>f</td>\n",
              "      <td>f</td>\n",
              "      <td>y</td>\n",
              "      <td>0</td>\n",
              "      <td>y</td>\n",
              "      <td>0.20</td>\n",
              "      <td>y</td>\n",
              "      <td>4</td>\n",
              "      <td>y</td>\n",
              "      <td>1</td>\n",
              "      <td>y</td>\n",
              "      <td>0</td>\n",
              "      <td>n</td>\n",
              "      <td>?</td>\n",
              "    </tr>\n",
              "    <tr>\n",
              "      <th>3</th>\n",
              "      <td>hypothyroid</td>\n",
              "      <td>24</td>\n",
              "      <td>F</td>\n",
              "      <td>f</td>\n",
              "      <td>f</td>\n",
              "      <td>f</td>\n",
              "      <td>f</td>\n",
              "      <td>f</td>\n",
              "      <td>f</td>\n",
              "      <td>f</td>\n",
              "      <td>f</td>\n",
              "      <td>f</td>\n",
              "      <td>f</td>\n",
              "      <td>f</td>\n",
              "      <td>y</td>\n",
              "      <td>430</td>\n",
              "      <td>y</td>\n",
              "      <td>0.40</td>\n",
              "      <td>y</td>\n",
              "      <td>6</td>\n",
              "      <td>y</td>\n",
              "      <td>1.04</td>\n",
              "      <td>y</td>\n",
              "      <td>6</td>\n",
              "      <td>n</td>\n",
              "      <td>?</td>\n",
              "    </tr>\n",
              "    <tr>\n",
              "      <th>4</th>\n",
              "      <td>hypothyroid</td>\n",
              "      <td>77</td>\n",
              "      <td>M</td>\n",
              "      <td>f</td>\n",
              "      <td>f</td>\n",
              "      <td>f</td>\n",
              "      <td>f</td>\n",
              "      <td>f</td>\n",
              "      <td>f</td>\n",
              "      <td>f</td>\n",
              "      <td>f</td>\n",
              "      <td>f</td>\n",
              "      <td>f</td>\n",
              "      <td>f</td>\n",
              "      <td>y</td>\n",
              "      <td>7.30</td>\n",
              "      <td>y</td>\n",
              "      <td>1.20</td>\n",
              "      <td>y</td>\n",
              "      <td>57</td>\n",
              "      <td>y</td>\n",
              "      <td>1.28</td>\n",
              "      <td>y</td>\n",
              "      <td>44</td>\n",
              "      <td>n</td>\n",
              "      <td>?</td>\n",
              "    </tr>\n",
              "  </tbody>\n",
              "</table>\n",
              "</div>"
            ],
            "text/plain": [
              "        status age sex on_thyroxine  ... FTI_measured FTI TBG_measured TBG\n",
              "0  hypothyroid  72   M            f  ...            y  10            n   ?\n",
              "1  hypothyroid  15   F            t  ...            y  17            n   ?\n",
              "2  hypothyroid  24   M            f  ...            y   0            n   ?\n",
              "3  hypothyroid  24   F            f  ...            y   6            n   ?\n",
              "4  hypothyroid  77   M            f  ...            y  44            n   ?\n",
              "\n",
              "[5 rows x 26 columns]"
            ]
          },
          "metadata": {
            "tags": []
          },
          "execution_count": 2
        }
      ]
    },
    {
      "cell_type": "markdown",
      "metadata": {
        "id": "ranrZwOsPs8h"
      },
      "source": [
        "__Data Preparation__"
      ]
    },
    {
      "cell_type": "code",
      "metadata": {
        "colab": {
          "base_uri": "https://localhost:8080/"
        },
        "id": "getPFYg1OSqw",
        "outputId": "4394bfac-6a16-48e8-96e9-6902f589ca97"
      },
      "source": [
        "hyp.shape"
      ],
      "execution_count": 3,
      "outputs": [
        {
          "output_type": "execute_result",
          "data": {
            "text/plain": [
              "(3163, 26)"
            ]
          },
          "metadata": {
            "tags": []
          },
          "execution_count": 3
        }
      ]
    },
    {
      "cell_type": "code",
      "metadata": {
        "colab": {
          "base_uri": "https://localhost:8080/"
        },
        "id": "6uWM4RD-PQOy",
        "outputId": "8ab2278f-93e4-4c54-e02f-b583719a4a30"
      },
      "source": [
        "# Lets check for missing values\n",
        "hyp.isnull().sum()"
      ],
      "execution_count": 4,
      "outputs": [
        {
          "output_type": "execute_result",
          "data": {
            "text/plain": [
              "status                       0\n",
              "age                          0\n",
              "sex                          0\n",
              "on_thyroxine                 0\n",
              "query_on_thyroxine           0\n",
              "on_antithyroid_medication    0\n",
              "thyroid_surgery              0\n",
              "query_hypothyroid            0\n",
              "query_hyperthyroid           0\n",
              "pregnant                     0\n",
              "sick                         0\n",
              "tumor                        0\n",
              "lithium                      0\n",
              "goitre                       0\n",
              "TSH_measured                 0\n",
              "TSH                          0\n",
              "T3_measured                  0\n",
              "T3                           0\n",
              "TT4_measured                 0\n",
              "TT4                          0\n",
              "T4U_measured                 0\n",
              "T4U                          0\n",
              "FTI_measured                 0\n",
              "FTI                          0\n",
              "TBG_measured                 0\n",
              "TBG                          0\n",
              "dtype: int64"
            ]
          },
          "metadata": {
            "tags": []
          },
          "execution_count": 4
        }
      ]
    },
    {
      "cell_type": "code",
      "metadata": {
        "colab": {
          "base_uri": "https://localhost:8080/"
        },
        "id": "MK2JkyaBP_Y7",
        "outputId": "8c02a2aa-2a3a-408e-9a9f-6e1fce912fde"
      },
      "source": [
        "# lets check if the data has the right data types\n",
        "\n",
        "hyp.dtypes"
      ],
      "execution_count": 5,
      "outputs": [
        {
          "output_type": "execute_result",
          "data": {
            "text/plain": [
              "status                       object\n",
              "age                          object\n",
              "sex                          object\n",
              "on_thyroxine                 object\n",
              "query_on_thyroxine           object\n",
              "on_antithyroid_medication    object\n",
              "thyroid_surgery              object\n",
              "query_hypothyroid            object\n",
              "query_hyperthyroid           object\n",
              "pregnant                     object\n",
              "sick                         object\n",
              "tumor                        object\n",
              "lithium                      object\n",
              "goitre                       object\n",
              "TSH_measured                 object\n",
              "TSH                          object\n",
              "T3_measured                  object\n",
              "T3                           object\n",
              "TT4_measured                 object\n",
              "TT4                          object\n",
              "T4U_measured                 object\n",
              "T4U                          object\n",
              "FTI_measured                 object\n",
              "FTI                          object\n",
              "TBG_measured                 object\n",
              "TBG                          object\n",
              "dtype: object"
            ]
          },
          "metadata": {
            "tags": []
          },
          "execution_count": 5
        }
      ]
    },
    {
      "cell_type": "code",
      "metadata": {
        "id": "BmbAGjRHRrRI"
      },
      "source": [
        "#converting numerical cols\n",
        "hyp.age = pd.to_numeric(hyp.age, errors='coerce')\n",
        "hyp.TSH = pd.to_numeric(hyp.TSH, errors='coerce')\n",
        "hyp.T3 = pd.to_numeric(hyp.T3, errors='coerce')\n",
        "hyp.TT4 = pd.to_numeric(hyp.TT4, errors='coerce')\n",
        "hyp.T4U = pd.to_numeric(hyp.T4U, errors='coerce')\n",
        "hyp.FTI = pd.to_numeric(hyp.FTI, errors='coerce')\n",
        "hyp.TBG = pd.to_numeric(hyp.TBG, errors='coerce')"
      ],
      "execution_count": 13,
      "outputs": []
    },
    {
      "cell_type": "code",
      "metadata": {
        "colab": {
          "base_uri": "https://localhost:8080/"
        },
        "id": "C9ckdUkc9QG_",
        "outputId": "816ae580-3746-4c53-d372-9ae37f81e8a4"
      },
      "source": [
        "#lets see if it has changed\n",
        "hyp.dtypes"
      ],
      "execution_count": 14,
      "outputs": [
        {
          "output_type": "execute_result",
          "data": {
            "text/plain": [
              "status                        object\n",
              "age                          float64\n",
              "sex                           object\n",
              "on_thyroxine                  object\n",
              "query_on_thyroxine            object\n",
              "on_antithyroid_medication     object\n",
              "thyroid_surgery               object\n",
              "query_hypothyroid             object\n",
              "query_hyperthyroid            object\n",
              "pregnant                      object\n",
              "sick                          object\n",
              "tumor                         object\n",
              "lithium                       object\n",
              "goitre                        object\n",
              "TSH_measured                  object\n",
              "TSH                          float64\n",
              "T3_measured                   object\n",
              "T3                           float64\n",
              "TT4_measured                  object\n",
              "TT4                          float64\n",
              "T4U_measured                  object\n",
              "T4U                          float64\n",
              "FTI_measured                  object\n",
              "FTI                          float64\n",
              "TBG_measured                  object\n",
              "TBG                          float64\n",
              "dtype: object"
            ]
          },
          "metadata": {
            "tags": []
          },
          "execution_count": 14
        }
      ]
    },
    {
      "cell_type": "code",
      "metadata": {
        "colab": {
          "base_uri": "https://localhost:8080/"
        },
        "id": "612It6rQ9t2z",
        "outputId": "06ddf371-ed18-4890-b1ab-71f84155a169"
      },
      "source": [
        "hyp.nunique()"
      ],
      "execution_count": 15,
      "outputs": [
        {
          "output_type": "execute_result",
          "data": {
            "text/plain": [
              "status                         2\n",
              "age                           92\n",
              "sex                            3\n",
              "on_thyroxine                   2\n",
              "query_on_thyroxine             2\n",
              "on_antithyroid_medication      2\n",
              "thyroid_surgery                2\n",
              "query_hypothyroid              2\n",
              "query_hyperthyroid             2\n",
              "pregnant                       2\n",
              "sick                           2\n",
              "tumor                          2\n",
              "lithium                        2\n",
              "goitre                         2\n",
              "TSH_measured                   2\n",
              "TSH                          239\n",
              "T3_measured                    2\n",
              "T3                            69\n",
              "TT4_measured                   2\n",
              "TT4                          268\n",
              "T4U_measured                   2\n",
              "T4U                          158\n",
              "FTI_measured                   2\n",
              "FTI                          280\n",
              "TBG_measured                   2\n",
              "TBG                           52\n",
              "dtype: int64"
            ]
          },
          "metadata": {
            "tags": []
          },
          "execution_count": 15
        }
      ]
    },
    {
      "cell_type": "markdown",
      "metadata": {
        "id": "ruvql0wTCy0d"
      },
      "source": [
        "**Univariate analysis**"
      ]
    },
    {
      "cell_type": "code",
      "metadata": {
        "colab": {
          "base_uri": "https://localhost:8080/",
          "height": 1000
        },
        "id": "ateSi4pLCE3-",
        "outputId": "cebd8e86-b437-4277-fcb4-e146c834e5d1"
      },
      "source": [
        "\n",
        "# lets plot some of the variables in  histogram\n",
        "plt.figure(figsize = [20,16])\n",
        "sns.countplot(x='age',data=hyp)\n",
        "plt.title('AGE')\n",
        "plt.show()\n",
        "\n",
        "plt.figure(figsize = [12,10])\n",
        "sns.countplot(x='sex',data=hyp)\n",
        "plt.title('Gender')\n",
        "plt.show()\n",
        "\n",
        "plt.figure(figsize = [20,16])\n",
        "sns.countplot(x='TBG',data=hyp)\n",
        "plt.title('Thyroid-Binding Globulin')\n",
        "plt.show()\n",
        "\n",
        "plt.figure(figsize = [20,16])\n",
        "sns.countplot(x='T3',data=hyp)\n",
        "plt.title('triiodothyronine.')\n",
        "plt.show()\n",
        "\n",
        "\n"
      ],
      "execution_count": 21,
      "outputs": [
        {
          "output_type": "display_data",
          "data": {
            "image/png": "[encoded data removed]",
            "text/plain": [
              "<Figure size 1440x1152 with 1 Axes>"
            ]
          },
          "metadata": {
            "tags": [],
            "needs_background": "light"
          }
        },
        {
          "output_type": "display_data",
          "data": {
            "image/png": "[encoded data removed]",
            "text/plain": [
              "<Figure size 864x720 with 1 Axes>"
            ]
          },
          "metadata": {
            "tags": [],
            "needs_background": "light"
          }
        },
        {
          "output_type": "display_data",
          "data": {
            "image/png": "[encoded data removed]",
            "text/plain": [
              "<Figure size 1440x1152 with 1 Axes>"
            ]
          },
          "metadata": {
            "tags": [],
            "needs_background": "light"
          }
        },
        {
          "output_type": "display_data",
          "data": {
            "image/png": "[encoded data removed]",
            "text/plain": [
              "<Figure size 1440x1152 with 1 Axes>"
            ]
          },
          "metadata": {
            "tags": [],
            "needs_background": "light"
          }
        }
      ]
    },
    {
      "cell_type": "code",
      "metadata": {
        "id": "uZjw9AD0Iixu"
      },
      "source": [
        ""
      ],
      "execution_count": null,
      "outputs": []
    }
  ]
}